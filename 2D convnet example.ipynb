{
 "cells": [
  {
   "cell_type": "code",
   "execution_count": 2,
   "metadata": {},
   "outputs": [
    {
     "name": "stderr",
     "output_type": "stream",
     "text": [
      "Using TensorFlow backend.\n"
     ]
    }
   ],
   "source": [
    "import numpy as np \n",
    "from keras.models import Sequential\n",
    "from keras.layers import Dense, Dropout, Activation\n",
    "from keras.layers import Conv2D, MaxPooling2D, Flatten\n",
    "from keras.datasets import mnist\n",
    "from keras.utils import np_utils"
   ]
  },
  {
   "cell_type": "code",
   "execution_count": 3,
   "metadata": {},
   "outputs": [
    {
     "name": "stdout",
     "output_type": "stream",
     "text": [
      "Downloading data from https://s3.amazonaws.com/img-datasets/mnist.npz\n",
      "11493376/11490434 [==============================] - 99s 9us/step\n"
     ]
    }
   ],
   "source": [
    "#load shit\n",
    "(train_data, train_labels), (test_data, test_labels) = mnist.load_data()"
   ]
  },
  {
   "cell_type": "code",
   "execution_count": 4,
   "metadata": {},
   "outputs": [
    {
     "data": {
      "text/plain": [
       "(60000, 28, 28)"
      ]
     },
     "execution_count": 4,
     "metadata": {},
     "output_type": "execute_result"
    }
   ],
   "source": [
    "train_data.shape"
   ]
  },
  {
   "cell_type": "code",
   "execution_count": 5,
   "metadata": {},
   "outputs": [],
   "source": [
    "train_data = train_data.reshape(train_data.shape[0],28,28,1)\n",
    "test_data = test_data.reshape(test_data.shape[0],28,28,1)"
   ]
  },
  {
   "cell_type": "code",
   "execution_count": 6,
   "metadata": {},
   "outputs": [],
   "source": [
    "train_data = train_data.astype('float32')\n",
    "test_data = test_data.astype('float32')"
   ]
  },
  {
   "cell_type": "code",
   "execution_count": 7,
   "metadata": {},
   "outputs": [],
   "source": [
    "train_data = train_data / 255\n",
    "test_data = test_data / 255"
   ]
  },
  {
   "cell_type": "code",
   "execution_count": 8,
   "metadata": {},
   "outputs": [],
   "source": [
    "#label one-hot encoding\n",
    "OH_train_label = np_utils.to_categorical(train_labels)\n",
    "OH_test_label = np_utils.to_categorical(test_labels)"
   ]
  },
  {
   "cell_type": "code",
   "execution_count": 9,
   "metadata": {},
   "outputs": [],
   "source": [
    "#set up model\n",
    "convnet = Sequential()\n",
    "convnet.add(Conv2D(32, kernel_size=(4, 4), activation ='tanh', input_shape = (28,28,1)))\n",
    "convnet.add(MaxPooling2D(pool_size=(2,2)))\n",
    "convnet.add(Conv2D(32, kernel_size=(3, 3), activation = 'tanh'))\n",
    "convnet.add(MaxPooling2D(pool_size=(2,2)))\n",
    "convnet.add(Dropout(0.3))\n",
    "convnet.add(Flatten())\n",
    "convnet.add(Dense(10, activation='softmax'))"
   ]
  },
  {
   "cell_type": "code",
   "execution_count": 10,
   "metadata": {},
   "outputs": [],
   "source": [
    "#set up model parameters \n",
    "convnet.compile(loss='mean_squared_error',optimizer='Adam', metrics=['accuracy'])"
   ]
  },
  {
   "cell_type": "code",
   "execution_count": 11,
   "metadata": {},
   "outputs": [
    {
     "name": "stdout",
     "output_type": "stream",
     "text": [
      "Epoch 1/10\n",
      "60000/60000 [==============================] - 42s 702us/step - loss: 0.0124 - acc: 0.9181\n",
      "Epoch 2/10\n",
      "60000/60000 [==============================] - 42s 703us/step - loss: 0.0045 - acc: 0.9713\n",
      "Epoch 3/10\n",
      "60000/60000 [==============================] - 40s 672us/step - loss: 0.0036 - acc: 0.9769\n",
      "Epoch 4/10\n",
      "60000/60000 [==============================] - 44s 737us/step - loss: 0.0032 - acc: 0.9794\n",
      "Epoch 5/10\n",
      "60000/60000 [==============================] - 41s 687us/step - loss: 0.0029 - acc: 0.9812\n",
      "Epoch 6/10\n",
      "60000/60000 [==============================] - 40s 670us/step - loss: 0.0027 - acc: 0.9826\n",
      "Epoch 7/10\n",
      "60000/60000 [==============================] - 40s 665us/step - loss: 0.0025 - acc: 0.9837\n",
      "Epoch 8/10\n",
      "60000/60000 [==============================] - 39s 657us/step - loss: 0.0024 - acc: 0.9845\n",
      "Epoch 9/10\n",
      "60000/60000 [==============================] - 39s 655us/step - loss: 0.0023 - acc: 0.9848\n",
      "Epoch 10/10\n",
      "60000/60000 [==============================] - 39s 656us/step - loss: 0.0023 - acc: 0.9850\n"
     ]
    },
    {
     "data": {
      "text/plain": [
       "<keras.callbacks.History at 0x1bfd6ba0b70>"
      ]
     },
     "execution_count": 11,
     "metadata": {},
     "output_type": "execute_result"
    }
   ],
   "source": [
    "convnet.fit(train_data, OH_train_label, batch_size=64, epochs=10, verbose=1)"
   ]
  },
  {
   "cell_type": "code",
   "execution_count": 30,
   "metadata": {},
   "outputs": [
    {
     "data": {
      "text/plain": [
       "<matplotlib.image.AxesImage at 0x1bfd82a7860>"
      ]
     },
     "execution_count": 30,
     "metadata": {},
     "output_type": "execute_result"
    },
    {
     "data": {
      "image/png": "[encoded data removed]",
      "text/plain": [
       "<Figure size 432x288 with 1 Axes>"
      ]
     },
     "metadata": {},
     "output_type": "display_data"
    }
   ],
   "source": [
    "import matplotlib.pyplot as plt\n",
    "plt.imshow(train_data[4,:,:,0])"
   ]
  },
  {
   "cell_type": "code",
   "execution_count": 24,
   "metadata": {},
   "outputs": [
    {
     "data": {
      "text/plain": [
       "(60000, 28, 28, 1)"
      ]
     },
     "execution_count": 24,
     "metadata": {},
     "output_type": "execute_result"
    }
   ],
   "source": [
    "train_data.shape"
   ]
  },
  {
   "cell_type": "code",
   "execution_count": 28,
   "metadata": {},
   "outputs": [
    {
     "data": {
      "text/plain": [
       "(28, 28, 1)"
      ]
     },
     "execution_count": 28,
     "metadata": {},
     "output_type": "execute_result"
    }
   ],
   "source": [
    "train_data[4,:,:].shape"
   ]
  },
  {
   "cell_type": "code",
   "execution_count": null,
   "metadata": {},
   "outputs": [],
   "source": []
  }
 ],
 "metadata": {
  "kernelspec": {
   "display_name": "Python 3",
   "language": "python",
   "name": "python3"
  },
  "language_info": {
   "codemirror_mode": {
    "name": "ipython",
    "version": 3
   },
   "file_extension": ".py",
   "mimetype": "text/x-python",
   "name": "python",
   "nbconvert_exporter": "python",
   "pygments_lexer": "ipython3",
   "version": "3.6.3"
  }
 },
 "nbformat": 4,
 "nbformat_minor": 2
}
